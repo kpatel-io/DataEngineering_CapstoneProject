{
 "cells": [
  {
   "cell_type": "code",
   "execution_count": null,
   "id": "9f811b96",
   "metadata": {},
   "outputs": [],
   "source": [
    "import zipfile\n",
    "import pandas as pd"
   ]
  },
  {
   "cell_type": "code",
   "execution_count": null,
   "id": "c8c312cb",
   "metadata": {},
   "outputs": [
    {
     "name": "stdout",
     "output_type": "stream",
     "text": [
      "traffic-violations-in-usa.zip: Skipping, found more recently modified local copy (use --force to force download)\n"
     ]
    }
   ],
   "source": [
    "!kaggle datasets download -d    felix4guti/traffic-violations-in-usa\n",
    "with zipfile.ZipFile(\"./{}.zip\".format(\"traffic-violations-in-usa\"),\"r\") as z:\n",
    "    z.extractall(\".\")"
   ]
  },
  {
   "cell_type": "code",
   "execution_count": 2,
   "id": "33234cdd",
   "metadata": {},
   "outputs": [
    {
     "name": "stdout",
     "output_type": "stream",
     "text": [
      " Volume in drive C is OS\n",
      " Volume Serial Number is 7AB7-A6DC\n",
      "\n",
      " Directory of C:\\Users\\KEVAL\\Desktop\\DataEngineering_CapstoneProject\n",
      "\n",
      "01/19/2022  08:33 PM    <DIR>          .\n",
      "01/19/2022  08:33 PM    <DIR>          ..\n",
      "01/19/2022  08:24 PM                61 .gitignore\n",
      "01/19/2022  08:32 PM    <DIR>          .ipynb_checkpoints\n",
      "01/19/2022  08:31 PM            13,223 Capstone Project Proposal.docx\n",
      "01/19/2022  08:33 PM        50,845,208 traffic-violations-in-usa.zip\n",
      "01/19/2022  08:33 PM       369,117,541 Traffic_Violations.csv\n",
      "01/19/2022  08:24 PM             3,797 Untitled.ipynb\n",
      "               5 File(s)    419,979,830 bytes\n",
      "               3 Dir(s)  825,065,271,296 bytes free\n"
     ]
    }
   ],
   "source": [
    "!dir"
   ]
  },
  {
   "cell_type": "code",
   "execution_count": 4,
   "id": "e107996e",
   "metadata": {},
   "outputs": [
    {
     "ename": "NameError",
     "evalue": "name 'pd' is not defined",
     "output_type": "error",
     "traceback": [
      "\u001b[1;31m---------------------------------------------------------------------------\u001b[0m",
      "\u001b[1;31mNameError\u001b[0m                                 Traceback (most recent call last)",
      "\u001b[1;32m<ipython-input-4-4b4ace0f4636>\u001b[0m in \u001b[0;36m<module>\u001b[1;34m\u001b[0m\n\u001b[1;32m----> 1\u001b[1;33m \u001b[0md\u001b[0m\u001b[1;33m=\u001b[0m\u001b[0mpd\u001b[0m\u001b[1;33m.\u001b[0m\u001b[0mread_csv\u001b[0m\u001b[1;33m(\u001b[0m\u001b[0mDataset\u001b[0m\u001b[1;33m+\u001b[0m\u001b[1;34m\"/Traffic_Violations.csv\"\u001b[0m\u001b[1;33m)\u001b[0m\u001b[1;33m\u001b[0m\u001b[1;33m\u001b[0m\u001b[0m\n\u001b[0m",
      "\u001b[1;31mNameError\u001b[0m: name 'pd' is not defined"
     ]
    }
   ],
   "source": [
    "d=pd.read_csv(Dataset+\"/Traffic_Violations.csv\")\n"
   ]
  },
  {
   "cell_type": "code",
   "execution_count": null,
   "id": "da0ba403",
   "metadata": {},
   "outputs": [],
   "source": []
  }
 ],
 "metadata": {
  "kernelspec": {
   "display_name": "Python 3",
   "language": "python",
   "name": "python3"
  },
  "language_info": {
   "codemirror_mode": {
    "name": "ipython",
    "version": 3
   },
   "file_extension": ".py",
   "mimetype": "text/x-python",
   "name": "python",
   "nbconvert_exporter": "python",
   "pygments_lexer": "ipython3",
   "version": "3.8.8"
  }
 },
 "nbformat": 4,
 "nbformat_minor": 5
}
